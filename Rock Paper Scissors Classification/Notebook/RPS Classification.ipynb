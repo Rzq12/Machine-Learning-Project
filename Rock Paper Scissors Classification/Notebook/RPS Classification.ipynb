{
 "cells": [
  {
   "cell_type": "code",
   "execution_count": 1,
   "metadata": {
    "colab": {
     "base_uri": "https://localhost:8080/"
    },
    "id": "Ja5bO9ocRm5N",
    "outputId": "1b418ab6-ae67-4a04-a494-e582aeafa0e8"
   },
   "outputs": [
    {
     "name": "stdout",
     "output_type": "stream",
     "text": [
      "WARNING:tensorflow:From c:\\Users\\LENOVO\\AppData\\Local\\Programs\\Python\\Python310\\lib\\site-packages\\keras\\src\\losses.py:2976: The name tf.losses.sparse_softmax_cross_entropy is deprecated. Please use tf.compat.v1.losses.sparse_softmax_cross_entropy instead.\n",
      "\n"
     ]
    }
   ],
   "source": [
    "import zipfile,os\n",
    "import tensorflow as tf\n",
    "\n",
    "from tensorflow.keras.preprocessing.image import ImageDataGenerator\n",
    "import numpy as np\n",
    "from tensorflow.keras.preprocessing import image\n",
    "import matplotlib.pyplot as plt\n",
    "import matplotlib.image as mpimg\n",
    "\n"
   ]
  },
  {
   "cell_type": "markdown",
   "metadata": {},
   "source": [
    "# LOAD DATA"
   ]
  },
  {
   "cell_type": "code",
   "execution_count": 2,
   "metadata": {
    "id": "dxgwWEP7R-6w"
   },
   "outputs": [],
   "source": [
    "local_zip = '../Data/rockpaperscissors.zip'\n",
    "zip_ref = zipfile.ZipFile(local_zip, 'r')\n",
    "zip_ref.extractall('/tmp')\n",
    "zip_ref.close()\n",
    "base_dir = '/tmp/rockpaperscissors'\n",
    "train_dir = os.path.join(base_dir, 'rps-cv-images')\n",
    "valid_dir = os.path.join(base_dir,'rps-cv-images')"
   ]
  },
  {
   "cell_type": "markdown",
   "metadata": {},
   "source": [
    "# SPLIT DATA"
   ]
  },
  {
   "cell_type": "code",
   "execution_count": 3,
   "metadata": {
    "id": "kSJ9qEC0SpET"
   },
   "outputs": [],
   "source": [
    "train_datagen = ImageDataGenerator(\n",
    "                    rescale=1./255,\n",
    "                    rotation_range=20,\n",
    "                    horizontal_flip=True,\n",
    "                    shear_range = 0.2,\n",
    "                    fill_mode = 'nearest',\n",
    "                    validation_split = 0.4)\n",
    "test_datagen = ImageDataGenerator(\n",
    "              rescale = 1./225,\n",
    "              validation_split = 0.4)\n"
   ]
  },
  {
   "cell_type": "code",
   "execution_count": 4,
   "metadata": {
    "colab": {
     "base_uri": "https://localhost:8080/"
    },
    "id": "MCMx2-eaTfkm",
    "outputId": "f23f70f7-7ffb-43ad-90ed-a2026eeb8d0c"
   },
   "outputs": [
    {
     "name": "stdout",
     "output_type": "stream",
     "text": [
      "Found 1314 images belonging to 3 classes.\n",
      "Found 874 images belonging to 3 classes.\n"
     ]
    }
   ],
   "source": [
    "train_data = train_datagen.flow_from_directory(\n",
    "    train_dir,\n",
    "    target_size = (100,150),\n",
    "    batch_size = 32,\n",
    "    class_mode = 'categorical',\n",
    "    subset = 'training'\n",
    ")\n",
    "\n",
    "valid_data = test_datagen.flow_from_directory(\n",
    "    valid_dir,\n",
    "    target_size = (100,150),\n",
    "    batch_size = 32,\n",
    "    class_mode = 'categorical',\n",
    "    subset = 'validation'\n",
    ")"
   ]
  },
  {
   "cell_type": "markdown",
   "metadata": {},
   "source": [
    "# BUILD THE MODEL"
   ]
  },
  {
   "cell_type": "code",
   "execution_count": 5,
   "metadata": {
    "id": "v00sfz0_VzFZ"
   },
   "outputs": [
    {
     "name": "stdout",
     "output_type": "stream",
     "text": [
      "WARNING:tensorflow:From c:\\Users\\LENOVO\\AppData\\Local\\Programs\\Python\\Python310\\lib\\site-packages\\keras\\src\\backend.py:873: The name tf.get_default_graph is deprecated. Please use tf.compat.v1.get_default_graph instead.\n",
      "\n",
      "WARNING:tensorflow:From c:\\Users\\LENOVO\\AppData\\Local\\Programs\\Python\\Python310\\lib\\site-packages\\keras\\src\\layers\\pooling\\max_pooling2d.py:161: The name tf.nn.max_pool is deprecated. Please use tf.nn.max_pool2d instead.\n",
      "\n"
     ]
    }
   ],
   "source": [
    "model = tf.keras.models.Sequential([\n",
    "    tf.keras.layers.Conv2D(16, (3, 3), activation='relu', input_shape=(100, 150, 3)),\n",
    "    tf.keras.layers.MaxPooling2D(2, 2),\n",
    "    tf.keras.layers.Dropout(0.2),\n",
    "    tf.keras.layers.Conv2D(16, (3, 3), activation='relu'),\n",
    "    tf.keras.layers.MaxPooling2D(2, 2),\n",
    "    tf.keras.layers.Dropout(0.2),\n",
    "    tf.keras.layers.Conv2D(32, (3, 3), activation='relu'),\n",
    "    tf.keras.layers.MaxPooling2D(2, 2),\n",
    "    tf.keras.layers.Dropout(0.2),\n",
    "    tf.keras.layers.Flatten(),\n",
    "    tf.keras.layers.Dense(64, activation='relu'),\n",
    "    tf.keras.layers.Dropout(0.2),\n",
    "    tf.keras.layers.Dense(3, activation='softmax')\n",
    "])"
   ]
  },
  {
   "cell_type": "code",
   "execution_count": 6,
   "metadata": {
    "colab": {
     "base_uri": "https://localhost:8080/"
    },
    "id": "n9uKKkgOVzN3",
    "outputId": "b1ac852b-40c6-4b21-8d9e-2becf63adeec"
   },
   "outputs": [
    {
     "name": "stdout",
     "output_type": "stream",
     "text": [
      "Model: \"sequential\"\n",
      "_________________________________________________________________\n",
      " Layer (type)                Output Shape              Param #   \n",
      "=================================================================\n",
      " conv2d (Conv2D)             (None, 98, 148, 16)       448       \n",
      "                                                                 \n",
      " max_pooling2d (MaxPooling2  (None, 49, 74, 16)        0         \n",
      " D)                                                              \n",
      "                                                                 \n",
      " dropout (Dropout)           (None, 49, 74, 16)        0         \n",
      "                                                                 \n",
      " conv2d_1 (Conv2D)           (None, 47, 72, 16)        2320      \n",
      "                                                                 \n",
      " max_pooling2d_1 (MaxPoolin  (None, 23, 36, 16)        0         \n",
      " g2D)                                                            \n",
      "                                                                 \n",
      " dropout_1 (Dropout)         (None, 23, 36, 16)        0         \n",
      "                                                                 \n",
      " conv2d_2 (Conv2D)           (None, 21, 34, 32)        4640      \n",
      "                                                                 \n",
      " max_pooling2d_2 (MaxPoolin  (None, 10, 17, 32)        0         \n",
      " g2D)                                                            \n",
      "                                                                 \n",
      " dropout_2 (Dropout)         (None, 10, 17, 32)        0         \n",
      "                                                                 \n",
      " flatten (Flatten)           (None, 5440)              0         \n",
      "                                                                 \n",
      " dense (Dense)               (None, 64)                348224    \n",
      "                                                                 \n",
      " dropout_3 (Dropout)         (None, 64)                0         \n",
      "                                                                 \n",
      " dense_1 (Dense)             (None, 3)                 195       \n",
      "                                                                 \n",
      "=================================================================\n",
      "Total params: 355827 (1.36 MB)\n",
      "Trainable params: 355827 (1.36 MB)\n",
      "Non-trainable params: 0 (0.00 Byte)\n",
      "_________________________________________________________________\n"
     ]
    }
   ],
   "source": [
    "model.summary()"
   ]
  },
  {
   "cell_type": "code",
   "execution_count": 7,
   "metadata": {
    "id": "DElu0T2JWvxZ"
   },
   "outputs": [],
   "source": [
    "model.compile(\n",
    "    loss='categorical_crossentropy',\n",
    "              optimizer=tf.optimizers.Adam(),\n",
    "              metrics=['accuracy']\n",
    ")"
   ]
  },
  {
   "cell_type": "markdown",
   "metadata": {},
   "source": [
    "# MODEL TRAINING"
   ]
  },
  {
   "cell_type": "code",
   "execution_count": 8,
   "metadata": {
    "colab": {
     "base_uri": "https://localhost:8080/"
    },
    "id": "0Nbc3LZ4W_eb",
    "outputId": "eb2526a3-add9-4c35-a3ea-3775a3836cfd"
   },
   "outputs": [
    {
     "name": "stdout",
     "output_type": "stream",
     "text": [
      "Epoch 1/20\n",
      "WARNING:tensorflow:From c:\\Users\\LENOVO\\AppData\\Local\\Programs\\Python\\Python310\\lib\\site-packages\\keras\\src\\utils\\tf_utils.py:492: The name tf.ragged.RaggedTensorValue is deprecated. Please use tf.compat.v1.ragged.RaggedTensorValue instead.\n",
      "\n",
      "WARNING:tensorflow:From c:\\Users\\LENOVO\\AppData\\Local\\Programs\\Python\\Python310\\lib\\site-packages\\keras\\src\\engine\\base_layer_utils.py:384: The name tf.executing_eagerly_outside_functions is deprecated. Please use tf.compat.v1.executing_eagerly_outside_functions instead.\n",
      "\n",
      "25/25 - 16s - loss: 1.1370 - accuracy: 0.3187 - val_loss: 1.0961 - val_accuracy: 0.3313 - 16s/epoch - 655ms/step\n",
      "Epoch 2/20\n",
      "25/25 - 9s - loss: 1.0819 - accuracy: 0.3338 - val_loss: 1.0617 - val_accuracy: 0.3250 - 9s/epoch - 347ms/step\n",
      "Epoch 3/20\n",
      "25/25 - 7s - loss: 1.0014 - accuracy: 0.4688 - val_loss: 0.9370 - val_accuracy: 0.5938 - 7s/epoch - 269ms/step\n",
      "Epoch 4/20\n",
      "25/25 - 6s - loss: 0.8412 - accuracy: 0.6195 - val_loss: 0.7994 - val_accuracy: 0.5250 - 6s/epoch - 255ms/step\n",
      "Epoch 5/20\n",
      "25/25 - 6s - loss: 0.6636 - accuracy: 0.7390 - val_loss: 0.4689 - val_accuracy: 0.8750 - 6s/epoch - 231ms/step\n",
      "Epoch 6/20\n",
      "25/25 - 5s - loss: 0.5532 - accuracy: 0.8078 - val_loss: 0.4794 - val_accuracy: 0.8500 - 5s/epoch - 217ms/step\n",
      "Epoch 7/20\n",
      "25/25 - 6s - loss: 0.4828 - accuracy: 0.8175 - val_loss: 0.2878 - val_accuracy: 0.9250 - 6s/epoch - 229ms/step\n",
      "Epoch 8/20\n",
      "25/25 - 9s - loss: 0.3918 - accuracy: 0.8584 - val_loss: 0.3235 - val_accuracy: 0.8938 - 9s/epoch - 341ms/step\n",
      "Epoch 9/20\n",
      "25/25 - 10s - loss: 0.3462 - accuracy: 0.8750 - val_loss: 0.3128 - val_accuracy: 0.9000 - 10s/epoch - 402ms/step\n",
      "Epoch 10/20\n",
      "25/25 - 7s - loss: 0.3130 - accuracy: 0.8831 - val_loss: 0.2325 - val_accuracy: 0.9312 - 7s/epoch - 296ms/step\n",
      "Epoch 11/20\n",
      "25/25 - 6s - loss: 0.3220 - accuracy: 0.8818 - val_loss: 0.2678 - val_accuracy: 0.9187 - 6s/epoch - 240ms/step\n",
      "Epoch 12/20\n",
      "25/25 - 6s - loss: 0.3805 - accuracy: 0.8481 - val_loss: 0.2327 - val_accuracy: 0.9312 - 6s/epoch - 254ms/step\n",
      "Epoch 13/20\n",
      "25/25 - 6s - loss: 0.2887 - accuracy: 0.8857 - val_loss: 0.1723 - val_accuracy: 0.9563 - 6s/epoch - 227ms/step\n",
      "Epoch 14/20\n",
      "25/25 - 6s - loss: 0.2550 - accuracy: 0.9087 - val_loss: 0.2071 - val_accuracy: 0.9438 - 6s/epoch - 249ms/step\n",
      "Epoch 15/20\n",
      "25/25 - 5s - loss: 0.2379 - accuracy: 0.9247 - val_loss: 0.1736 - val_accuracy: 0.9500 - 5s/epoch - 209ms/step\n",
      "Epoch 16/20\n",
      "25/25 - 6s - loss: 0.2472 - accuracy: 0.9065 - val_loss: 0.2302 - val_accuracy: 0.9187 - 6s/epoch - 258ms/step\n",
      "Epoch 17/20\n",
      "25/25 - 6s - loss: 0.2171 - accuracy: 0.9287 - val_loss: 0.2266 - val_accuracy: 0.9375 - 6s/epoch - 237ms/step\n",
      "Epoch 18/20\n",
      "25/25 - 7s - loss: 0.2531 - accuracy: 0.9221 - val_loss: 0.1321 - val_accuracy: 0.9688 - 7s/epoch - 264ms/step\n",
      "Epoch 19/20\n",
      "25/25 - 8s - loss: 0.2418 - accuracy: 0.9117 - val_loss: 0.1604 - val_accuracy: 0.9625 - 8s/epoch - 303ms/step\n",
      "Epoch 20/20\n",
      "25/25 - 5s - loss: 0.2179 - accuracy: 0.9169 - val_loss: 0.1721 - val_accuracy: 0.9625 - 5s/epoch - 200ms/step\n"
     ]
    },
    {
     "data": {
      "text/plain": [
       "<keras.src.callbacks.History at 0x1bf6e607fa0>"
      ]
     },
     "execution_count": 8,
     "metadata": {},
     "output_type": "execute_result"
    }
   ],
   "source": [
    "model.fit(\n",
    "    train_data,\n",
    "      steps_per_epoch=25,\n",
    "      epochs=20,\n",
    "      validation_data=valid_data,\n",
    "      validation_steps=5,\n",
    "      verbose=2\n",
    ")"
   ]
  },
  {
   "cell_type": "markdown",
   "metadata": {},
   "source": [
    "# PREDICTING"
   ]
  },
  {
   "cell_type": "code",
   "execution_count": 9,
   "metadata": {
    "id": "iW3pnR6YYiY5"
   },
   "outputs": [],
   "source": [
    "def predict_image(image_upload, model = model):\n",
    "  im = image_upload\n",
    "  im_array = np.asarray(im)\n",
    "  im_array = im_array*(1/225)\n",
    "  im_input = tf.reshape(im_array, shape = [1, 100, 150, 3])\n",
    "\n",
    "  predict_proba = sorted(model.predict(im_input)[0])[2]\n",
    "  predict_class = np.argmax(model.predict(im_input))\n",
    "\n",
    "  if predict_class == 0:\n",
    "      predict_label = 'Paper'\n",
    "  elif predict_class == 1:\n",
    "      predict_label = 'Rock'\n",
    "  else:\n",
    "      predict_label = 'Scissor'\n",
    "\n",
    "  print('\\n')\n",
    "  plt.show()\n",
    "  print(\"\\nImage prediction result: \", predict_label)\n",
    "  print(\"Probability: \", round(predict_proba*100,2), \"%\")\n",
    "  print('\\n')"
   ]
  },
  {
   "cell_type": "code",
   "execution_count": 10,
   "metadata": {
    "colab": {
     "base_uri": "https://localhost:8080/",
     "height": 607
    },
    "id": "-icP9ROsa_38",
    "outputId": "c826cec7-be63-4570-e8b8-4964e6f1db73"
   },
   "outputs": [
    {
     "data": {
      "image/png": "[encoded data removed]",
      "text/plain": [
       "<Figure size 640x480 with 1 Axes>"
      ]
     },
     "metadata": {},
     "output_type": "display_data"
    },
    {
     "name": "stdout",
     "output_type": "stream",
     "text": [
      "1/1 [==============================] - 0s 141ms/step\n",
      "1/1 [==============================] - 0s 27ms/step\n",
      "\n",
      "\n",
      "\n",
      "Image prediction result:  Rock\n",
      "Probability:  81.01 %\n",
      "\n",
      "\n"
     ]
    }
   ],
   "source": [
    "img_path = '../Image Predict/Zz52yCODsLplv7rK.png'\n",
    "img = image.load_img(img_path, target_size=(100, 150))\n",
    "\n",
    "plt.imshow(img)\n",
    "plt.axis('off')\n",
    "plt.show()\n",
    "\n",
    "predict_image(img)"
   ]
  },
  {
   "cell_type": "code",
   "execution_count": 11,
   "metadata": {},
   "outputs": [
    {
     "name": "stderr",
     "output_type": "stream",
     "text": [
      "c:\\Users\\LENOVO\\AppData\\Local\\Programs\\Python\\Python310\\lib\\site-packages\\keras\\src\\engine\\training.py:3103: UserWarning: You are saving your model as an HDF5 file via `model.save()`. This file format is considered legacy. We recommend using instead the native Keras format, e.g. `model.save('my_model.keras')`.\n",
      "  saving_api.save_model(\n"
     ]
    }
   ],
   "source": [
    "model.save('rockpaperscissors.h5')"
   ]
  }
 ],
 "metadata": {
  "colab": {
   "provenance": []
  },
  "kernelspec": {
   "display_name": "Python 3",
   "name": "python3"
  },
  "language_info": {
   "codemirror_mode": {
    "name": "ipython",
    "version": 3
   },
   "file_extension": ".py",
   "mimetype": "text/x-python",
   "name": "python",
   "nbconvert_exporter": "python",
   "pygments_lexer": "ipython3",
   "version": "3.10.7"
  }
 },
 "nbformat": 4,
 "nbformat_minor": 0
}
